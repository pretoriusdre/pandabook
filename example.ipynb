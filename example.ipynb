{
 "cells": [
  {
   "cell_type": "code",
   "execution_count": 1,
   "id": "dbc1fb91",
   "metadata": {},
   "outputs": [],
   "source": [
    "import pandas as pd\n",
    "from pandabook import PandaBook, get_excel_tables, get_excel_table\n",
    "import os\n",
    "import numpy as np\n",
    "import datetime\n",
    "import uuid\n",
    "from pathlib import Path"
   ]
  },
  {
   "cell_type": "markdown",
   "id": "c0fe6fdc",
   "metadata": {},
   "source": [
    "#### Saving  Pandas DataFrames to Excel Named Tables"
   ]
  },
  {
   "cell_type": "code",
   "execution_count": 2,
   "id": "2d9d4d21",
   "metadata": {},
   "outputs": [],
   "source": [
    "book = PandaBook()"
   ]
  },
  {
   "cell_type": "code",
   "execution_count": 3,
   "id": "17f7c120",
   "metadata": {},
   "outputs": [],
   "source": [
    "# Define the MultiIndex for columns\n",
    "arrays = [\n",
    "    ['A', 'A', 'B', 'B'],\n",
    "    ['foo', 'bar', 'foo', 'bar']\n",
    "]\n",
    "multi_columns = pd.MultiIndex.from_arrays(arrays, names=['letter', 'type'])\n",
    "\n",
    "# Create the DataFrame with MultiIndex columns\n",
    "df_multi_col = pd.DataFrame(\n",
    "    [[1, 2, 3, 4], [5, 6, 7, 8]],\n",
    "    columns=multi_columns\n",
    ")\n",
    "\n",
    "# Define arrays for the MultiIndex\n",
    "arrays = [\n",
    "    ['A', 'A', 'B', 'B'],\n",
    "    ['one', 'two', 'one', 'two']\n",
    "]\n",
    "\n",
    "# Create the MultiIndex\n",
    "multi_rows = pd.MultiIndex.from_arrays(arrays, names=['letter', 'number'])\n",
    "\n",
    "# Create the DataFrame\n",
    "df_multi_row = pd.DataFrame({'value': [10, 20, 30, 40]}, index=multi_rows)\n"
   ]
  },
  {
   "cell_type": "code",
   "execution_count": 4,
   "id": "a5d16dbe",
   "metadata": {},
   "outputs": [
    {
     "data": {
      "text/html": [
       "<div>\n",
       "<style scoped>\n",
       "    .dataframe tbody tr th:only-of-type {\n",
       "        vertical-align: middle;\n",
       "    }\n",
       "\n",
       "    .dataframe tbody tr th {\n",
       "        vertical-align: top;\n",
       "    }\n",
       "\n",
       "    .dataframe thead tr th {\n",
       "        text-align: left;\n",
       "    }\n",
       "</style>\n",
       "<table border=\"1\" class=\"dataframe\">\n",
       "  <thead>\n",
       "    <tr>\n",
       "      <th>letter</th>\n",
       "      <th colspan=\"2\" halign=\"left\">A</th>\n",
       "      <th colspan=\"2\" halign=\"left\">B</th>\n",
       "    </tr>\n",
       "    <tr>\n",
       "      <th>type</th>\n",
       "      <th>foo</th>\n",
       "      <th>bar</th>\n",
       "      <th>foo</th>\n",
       "      <th>bar</th>\n",
       "    </tr>\n",
       "  </thead>\n",
       "  <tbody>\n",
       "    <tr>\n",
       "      <th>0</th>\n",
       "      <td>1</td>\n",
       "      <td>2</td>\n",
       "      <td>3</td>\n",
       "      <td>4</td>\n",
       "    </tr>\n",
       "    <tr>\n",
       "      <th>1</th>\n",
       "      <td>5</td>\n",
       "      <td>6</td>\n",
       "      <td>7</td>\n",
       "      <td>8</td>\n",
       "    </tr>\n",
       "  </tbody>\n",
       "</table>\n",
       "</div>"
      ],
      "text/plain": [
       "letter   A       B    \n",
       "type   foo bar foo bar\n",
       "0        1   2   3   4\n",
       "1        5   6   7   8"
      ]
     },
     "execution_count": 4,
     "metadata": {},
     "output_type": "execute_result"
    }
   ],
   "source": [
    "df_multi_col"
   ]
  },
  {
   "cell_type": "code",
   "execution_count": 5,
   "id": "04ba3338",
   "metadata": {},
   "outputs": [
    {
     "data": {
      "text/html": [
       "<div>\n",
       "<style scoped>\n",
       "    .dataframe tbody tr th:only-of-type {\n",
       "        vertical-align: middle;\n",
       "    }\n",
       "\n",
       "    .dataframe tbody tr th {\n",
       "        vertical-align: top;\n",
       "    }\n",
       "\n",
       "    .dataframe thead th {\n",
       "        text-align: right;\n",
       "    }\n",
       "</style>\n",
       "<table border=\"1\" class=\"dataframe\">\n",
       "  <thead>\n",
       "    <tr style=\"text-align: right;\">\n",
       "      <th></th>\n",
       "      <th></th>\n",
       "      <th>value</th>\n",
       "    </tr>\n",
       "    <tr>\n",
       "      <th>letter</th>\n",
       "      <th>number</th>\n",
       "      <th></th>\n",
       "    </tr>\n",
       "  </thead>\n",
       "  <tbody>\n",
       "    <tr>\n",
       "      <th rowspan=\"2\" valign=\"top\">A</th>\n",
       "      <th>one</th>\n",
       "      <td>10</td>\n",
       "    </tr>\n",
       "    <tr>\n",
       "      <th>two</th>\n",
       "      <td>20</td>\n",
       "    </tr>\n",
       "    <tr>\n",
       "      <th rowspan=\"2\" valign=\"top\">B</th>\n",
       "      <th>one</th>\n",
       "      <td>30</td>\n",
       "    </tr>\n",
       "    <tr>\n",
       "      <th>two</th>\n",
       "      <td>40</td>\n",
       "    </tr>\n",
       "  </tbody>\n",
       "</table>\n",
       "</div>"
      ],
      "text/plain": [
       "               value\n",
       "letter number       \n",
       "A      one        10\n",
       "       two        20\n",
       "B      one        30\n",
       "       two        40"
      ]
     },
     "execution_count": 5,
     "metadata": {},
     "output_type": "execute_result"
    }
   ],
   "source": [
    "df_multi_row"
   ]
  },
  {
   "cell_type": "code",
   "execution_count": 6,
   "id": "c7d4fb4a",
   "metadata": {},
   "outputs": [],
   "source": [
    "df_regular = df_multi_row.reset_index()"
   ]
  },
  {
   "cell_type": "code",
   "execution_count": 7,
   "id": "51a28809",
   "metadata": {},
   "outputs": [
    {
     "data": {
      "text/html": [
       "<div>\n",
       "<style scoped>\n",
       "    .dataframe tbody tr th:only-of-type {\n",
       "        vertical-align: middle;\n",
       "    }\n",
       "\n",
       "    .dataframe tbody tr th {\n",
       "        vertical-align: top;\n",
       "    }\n",
       "\n",
       "    .dataframe thead tr th {\n",
       "        text-align: left;\n",
       "    }\n",
       "\n",
       "    .dataframe thead tr:last-of-type th {\n",
       "        text-align: right;\n",
       "    }\n",
       "</style>\n",
       "<table border=\"1\" class=\"dataframe\">\n",
       "  <thead>\n",
       "    <tr>\n",
       "      <th></th>\n",
       "      <th>Category</th>\n",
       "      <th colspan=\"2\" halign=\"left\">Score</th>\n",
       "      <th colspan=\"2\" halign=\"left\">Grade</th>\n",
       "    </tr>\n",
       "    <tr>\n",
       "      <th></th>\n",
       "      <th>Subject</th>\n",
       "      <th>Math</th>\n",
       "      <th>Science</th>\n",
       "      <th>Math</th>\n",
       "      <th>Science</th>\n",
       "    </tr>\n",
       "    <tr>\n",
       "      <th>Group</th>\n",
       "      <th>Number</th>\n",
       "      <th></th>\n",
       "      <th></th>\n",
       "      <th></th>\n",
       "      <th></th>\n",
       "    </tr>\n",
       "  </thead>\n",
       "  <tbody>\n",
       "    <tr>\n",
       "      <th rowspan=\"2\" valign=\"top\">A</th>\n",
       "      <th>1</th>\n",
       "      <td>55</td>\n",
       "      <td>52</td>\n",
       "      <td>90</td>\n",
       "      <td>60</td>\n",
       "    </tr>\n",
       "    <tr>\n",
       "      <th>2</th>\n",
       "      <td>93</td>\n",
       "      <td>75</td>\n",
       "      <td>61</td>\n",
       "      <td>61</td>\n",
       "    </tr>\n",
       "    <tr>\n",
       "      <th rowspan=\"2\" valign=\"top\">B</th>\n",
       "      <th>1</th>\n",
       "      <td>71</td>\n",
       "      <td>64</td>\n",
       "      <td>73</td>\n",
       "      <td>57</td>\n",
       "    </tr>\n",
       "    <tr>\n",
       "      <th>2</th>\n",
       "      <td>73</td>\n",
       "      <td>56</td>\n",
       "      <td>92</td>\n",
       "      <td>98</td>\n",
       "    </tr>\n",
       "  </tbody>\n",
       "</table>\n",
       "</div>"
      ],
      "text/plain": [
       "Category     Score         Grade        \n",
       "Subject       Math Science  Math Science\n",
       "Group Number                            \n",
       "A     1         55      52    90      60\n",
       "      2         93      75    61      61\n",
       "B     1         71      64    73      57\n",
       "      2         73      56    92      98"
      ]
     },
     "execution_count": 7,
     "metadata": {},
     "output_type": "execute_result"
    }
   ],
   "source": [
    "row_index = pd.MultiIndex.from_tuples(\n",
    "    [('A', 1), ('A', 2), ('B', 1), ('B', 2)],\n",
    "    names=['Group', 'Number']\n",
    ")\n",
    "\n",
    "# Define multi-level column index\n",
    "col_index = pd.MultiIndex.from_tuples(\n",
    "    [('Score', 'Math'), ('Score', 'Science'), ('Grade', 'Math'), ('Grade', 'Science')],\n",
    "    names=['Category', 'Subject']\n",
    ")\n",
    "\n",
    "# Create the DataFrame\n",
    "df_multi_indexed = pd.DataFrame(\n",
    "    np.random.randint(50, 100, size=(4, 4)),\n",
    "    index=row_index,\n",
    "    columns=col_index\n",
    ")\n",
    "df_multi_indexed"
   ]
  },
  {
   "cell_type": "code",
   "execution_count": 8,
   "id": "c8472cb0",
   "metadata": {},
   "outputs": [],
   "source": [
    "data = {\n",
    "    'uuid4_col': [uuid.uuid4() for _ in range(3)],\n",
    "    'list_col': [[1, 2, 3], [4, 5], [6]],\n",
    "    'dict_col': [{'a': 1, 'b': 2}, {'c': 3}, {'d': 4, 'e': 5}],\n",
    "    'datetime_col': [datetime.datetime(2024, 6, 1, 12, 0), datetime.datetime(2024, 6, 2, 13, 30), datetime.datetime(2024, 6, 3, 15, 45)],\n",
    "    'date_col': [datetime.datetime(2024, 6, 1), datetime.datetime(2024, 6, 2), datetime.datetime(2024, 6, 3)],\n",
    "    'severity' : ['High', 'Medium', 'Low'],\n",
    "    'long_text' : 'very long text ' * 25,\n",
    "    'booleans' : [True, False, True]\n",
    "}\n",
    "\n",
    "df_oddvalues = pd.DataFrame(data)"
   ]
  },
  {
   "cell_type": "code",
   "execution_count": 9,
   "id": "bfd7e678",
   "metadata": {},
   "outputs": [
    {
     "data": {
      "text/html": [
       "<div>\n",
       "<style scoped>\n",
       "    .dataframe tbody tr th:only-of-type {\n",
       "        vertical-align: middle;\n",
       "    }\n",
       "\n",
       "    .dataframe tbody tr th {\n",
       "        vertical-align: top;\n",
       "    }\n",
       "\n",
       "    .dataframe thead th {\n",
       "        text-align: right;\n",
       "    }\n",
       "</style>\n",
       "<table border=\"1\" class=\"dataframe\">\n",
       "  <thead>\n",
       "    <tr style=\"text-align: right;\">\n",
       "      <th></th>\n",
       "      <th>uuid4_col</th>\n",
       "      <th>list_col</th>\n",
       "      <th>dict_col</th>\n",
       "      <th>datetime_col</th>\n",
       "      <th>date_col</th>\n",
       "      <th>severity</th>\n",
       "      <th>long_text</th>\n",
       "      <th>booleans</th>\n",
       "    </tr>\n",
       "  </thead>\n",
       "  <tbody>\n",
       "    <tr>\n",
       "      <th>0</th>\n",
       "      <td>33f8919a-e44a-4372-9663-8e690d050cc1</td>\n",
       "      <td>[1, 2, 3]</td>\n",
       "      <td>{'a': 1, 'b': 2}</td>\n",
       "      <td>2024-06-01 12:00:00</td>\n",
       "      <td>2024-06-01</td>\n",
       "      <td>High</td>\n",
       "      <td>very long text very long text very long text v...</td>\n",
       "      <td>True</td>\n",
       "    </tr>\n",
       "    <tr>\n",
       "      <th>1</th>\n",
       "      <td>c6d5c8f9-265e-4858-876a-dea105a1d44f</td>\n",
       "      <td>[4, 5]</td>\n",
       "      <td>{'c': 3}</td>\n",
       "      <td>2024-06-02 13:30:00</td>\n",
       "      <td>2024-06-02</td>\n",
       "      <td>Medium</td>\n",
       "      <td>very long text very long text very long text v...</td>\n",
       "      <td>False</td>\n",
       "    </tr>\n",
       "    <tr>\n",
       "      <th>2</th>\n",
       "      <td>1516d5ca-798a-46fb-a6d5-8c857bcec742</td>\n",
       "      <td>[6]</td>\n",
       "      <td>{'d': 4, 'e': 5}</td>\n",
       "      <td>2024-06-03 15:45:00</td>\n",
       "      <td>2024-06-03</td>\n",
       "      <td>Low</td>\n",
       "      <td>very long text very long text very long text v...</td>\n",
       "      <td>True</td>\n",
       "    </tr>\n",
       "  </tbody>\n",
       "</table>\n",
       "</div>"
      ],
      "text/plain": [
       "                              uuid4_col   list_col          dict_col  \\\n",
       "0  33f8919a-e44a-4372-9663-8e690d050cc1  [1, 2, 3]  {'a': 1, 'b': 2}   \n",
       "1  c6d5c8f9-265e-4858-876a-dea105a1d44f     [4, 5]          {'c': 3}   \n",
       "2  1516d5ca-798a-46fb-a6d5-8c857bcec742        [6]  {'d': 4, 'e': 5}   \n",
       "\n",
       "         datetime_col   date_col severity  \\\n",
       "0 2024-06-01 12:00:00 2024-06-01     High   \n",
       "1 2024-06-02 13:30:00 2024-06-02   Medium   \n",
       "2 2024-06-03 15:45:00 2024-06-03      Low   \n",
       "\n",
       "                                           long_text  booleans  \n",
       "0  very long text very long text very long text v...      True  \n",
       "1  very long text very long text very long text v...     False  \n",
       "2  very long text very long text very long text v...      True  "
      ]
     },
     "execution_count": 9,
     "metadata": {},
     "output_type": "execute_result"
    }
   ],
   "source": [
    "df_oddvalues"
   ]
  },
  {
   "cell_type": "code",
   "execution_count": 10,
   "id": "1c584a1a",
   "metadata": {},
   "outputs": [
    {
     "data": {
      "text/plain": [
       "<pandabook.pandabook.PandaSheet at 0x1f0b5c58560>"
      ]
     },
     "execution_count": 10,
     "metadata": {},
     "output_type": "execute_result"
    }
   ],
   "source": [
    "book.add_table(\n",
    "    df=df_multi_col,\n",
    "    name='df_multi_col',\n",
    "    index=True,\n",
    "    description='Sample data with a multi-level column index'\n",
    "    )\n",
    "\n",
    "book.add_table(\n",
    "    df=df_multi_row,\n",
    "    name='df_multi_row',\n",
    "    index=True,\n",
    "        description='Sample data with a multi-level row index'\n",
    "    )\n",
    "\n",
    "\n",
    "book.add_table(\n",
    "    df=df_regular,\n",
    "    name='df_regular',\n",
    "    index=True,\n",
    "    description='Sample data with a regular index'\n",
    "    )\n",
    "\n",
    "book.add_table(\n",
    "    df=df_oddvalues,\n",
    "    name='df_oddval',\n",
    "    index=False,\n",
    "    description='Sample data with various datatypes, and conditional formatting',\n",
    "    columns={\n",
    "        'uuid4_col' : {'is_pk' : True, 'width' : 20},\n",
    "        'severity' :  {'conditional_style' :{\n",
    "            'Low' : 'Good',\n",
    "            'Medium' : 'Neutral',\n",
    "            'High' : 'Bad'\n",
    "            }\n",
    "        }\n",
    "    }\n",
    ")\n",
    "\n",
    "book.add_table(\n",
    "    df=df_multi_indexed,\n",
    "    name='df_multi_indexed',\n",
    "    index=True,\n",
    "    description='Multi indexed'\n",
    "    )"
   ]
  },
  {
   "cell_type": "code",
   "execution_count": 11,
   "id": "a863285c",
   "metadata": {},
   "outputs": [],
   "source": [
    "output_folder = Path('output')\n",
    "output_file = output_folder / 'example_output.xlsx'\n",
    "\n",
    "book.save(output_file)\n",
    "os.startfile(output_file)"
   ]
  },
  {
   "cell_type": "markdown",
   "id": "72b4c13b",
   "metadata": {},
   "source": [
    "#### Loading Excel Named Tables to Pandas DataFrames"
   ]
  },
  {
   "cell_type": "code",
   "execution_count": 12,
   "id": "f46b0fa1",
   "metadata": {},
   "outputs": [
    {
     "data": {
      "text/plain": [
       "dict_keys(['index', 'df_multi_col', 'df_multi_row', 'df_regular', 'df_oddval', 'df_multi_indexed'])"
      ]
     },
     "execution_count": 12,
     "metadata": {},
     "output_type": "execute_result"
    }
   ],
   "source": [
    "# Get all named tables from a file into a dictionary\n",
    "all_data = get_excel_tables(output_file, convert_nan_to_none=True)\n",
    "all_data.keys()"
   ]
  },
  {
   "cell_type": "code",
   "execution_count": 13,
   "id": "b3db2047",
   "metadata": {},
   "outputs": [
    {
     "data": {
      "text/html": [
       "<div>\n",
       "<style scoped>\n",
       "    .dataframe tbody tr th:only-of-type {\n",
       "        vertical-align: middle;\n",
       "    }\n",
       "\n",
       "    .dataframe tbody tr th {\n",
       "        vertical-align: top;\n",
       "    }\n",
       "\n",
       "    .dataframe thead th {\n",
       "        text-align: right;\n",
       "    }\n",
       "</style>\n",
       "<table border=\"1\" class=\"dataframe\">\n",
       "  <thead>\n",
       "    <tr style=\"text-align: right;\">\n",
       "      <th></th>\n",
       "      <th>index</th>\n",
       "      <th>letter</th>\n",
       "      <th>number</th>\n",
       "      <th>value</th>\n",
       "    </tr>\n",
       "  </thead>\n",
       "  <tbody>\n",
       "    <tr>\n",
       "      <th>0</th>\n",
       "      <td>0</td>\n",
       "      <td>A</td>\n",
       "      <td>one</td>\n",
       "      <td>10</td>\n",
       "    </tr>\n",
       "    <tr>\n",
       "      <th>1</th>\n",
       "      <td>1</td>\n",
       "      <td>A</td>\n",
       "      <td>two</td>\n",
       "      <td>20</td>\n",
       "    </tr>\n",
       "    <tr>\n",
       "      <th>2</th>\n",
       "      <td>2</td>\n",
       "      <td>B</td>\n",
       "      <td>one</td>\n",
       "      <td>30</td>\n",
       "    </tr>\n",
       "    <tr>\n",
       "      <th>3</th>\n",
       "      <td>3</td>\n",
       "      <td>B</td>\n",
       "      <td>two</td>\n",
       "      <td>40</td>\n",
       "    </tr>\n",
       "  </tbody>\n",
       "</table>\n",
       "</div>"
      ],
      "text/plain": [
       "  index letter number value\n",
       "0     0      A    one    10\n",
       "1     1      A    two    20\n",
       "2     2      B    one    30\n",
       "3     3      B    two    40"
      ]
     },
     "execution_count": 13,
     "metadata": {},
     "output_type": "execute_result"
    }
   ],
   "source": [
    "all_data['df_regular']"
   ]
  },
  {
   "cell_type": "code",
   "execution_count": 14,
   "id": "27e6b705",
   "metadata": {},
   "outputs": [
    {
     "data": {
      "text/html": [
       "<div>\n",
       "<style scoped>\n",
       "    .dataframe tbody tr th:only-of-type {\n",
       "        vertical-align: middle;\n",
       "    }\n",
       "\n",
       "    .dataframe tbody tr th {\n",
       "        vertical-align: top;\n",
       "    }\n",
       "\n",
       "    .dataframe thead th {\n",
       "        text-align: right;\n",
       "    }\n",
       "</style>\n",
       "<table border=\"1\" class=\"dataframe\">\n",
       "  <thead>\n",
       "    <tr style=\"text-align: right;\">\n",
       "      <th></th>\n",
       "      <th>letter</th>\n",
       "      <th>number</th>\n",
       "      <th>value</th>\n",
       "    </tr>\n",
       "  </thead>\n",
       "  <tbody>\n",
       "    <tr>\n",
       "      <th>0</th>\n",
       "      <td>A</td>\n",
       "      <td>one</td>\n",
       "      <td>10</td>\n",
       "    </tr>\n",
       "    <tr>\n",
       "      <th>1</th>\n",
       "      <td>A</td>\n",
       "      <td>two</td>\n",
       "      <td>20</td>\n",
       "    </tr>\n",
       "    <tr>\n",
       "      <th>2</th>\n",
       "      <td>B</td>\n",
       "      <td>one</td>\n",
       "      <td>30</td>\n",
       "    </tr>\n",
       "    <tr>\n",
       "      <th>3</th>\n",
       "      <td>B</td>\n",
       "      <td>two</td>\n",
       "      <td>40</td>\n",
       "    </tr>\n",
       "  </tbody>\n",
       "</table>\n",
       "</div>"
      ],
      "text/plain": [
       "  letter number value\n",
       "0      A    one    10\n",
       "1      A    two    20\n",
       "2      B    one    30\n",
       "3      B    two    40"
      ]
     },
     "execution_count": 14,
     "metadata": {},
     "output_type": "execute_result"
    }
   ],
   "source": [
    "# Alternatively, just load a specific table\n",
    "get_excel_table(filename=output_file, table_name='df_multi_row')"
   ]
  },
  {
   "cell_type": "markdown",
   "id": "c73c3397",
   "metadata": {},
   "source": [
    "Please note the following limitations when loading data:\n",
    "\n",
    "* Data types that were converted to strings (eg lists, dictionary) are not automatically deserialized into python data types\n",
    "* Multi-level indexes are not recontstructed"
   ]
  }
 ],
 "metadata": {
  "kernelspec": {
   "display_name": "pandabook (3.12.6)",
   "language": "python",
   "name": "python3"
  },
  "language_info": {
   "codemirror_mode": {
    "name": "ipython",
    "version": 3
   },
   "file_extension": ".py",
   "mimetype": "text/x-python",
   "name": "python",
   "nbconvert_exporter": "python",
   "pygments_lexer": "ipython3",
   "version": "3.12.6"
  }
 },
 "nbformat": 4,
 "nbformat_minor": 5
}
